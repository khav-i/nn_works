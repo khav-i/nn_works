{
  "cells": [
    {
      "cell_type": "markdown",
      "metadata": {
        "colab_type": "text",
        "id": "iJRLGIMdOVRK"
      },
      "source": [
        "# Сравнение моделей на данных MNIST"
      ]
    },
    {
      "cell_type": "code",
      "execution_count": 2,
      "metadata": {
        "colab": {},
        "colab_type": "code",
        "id": "NPDfQS-kNO1v"
      },
      "outputs": [],
      "source": [
        "import tensorflow as tf\n",
        "import numpy as np\n",
        "import sklearn\n",
        "import matplotlib.pyplot as plt\n",
        "\n",
        "from sklearn.preprocessing import StandardScaler\n",
        "from sklearn import metrics\n",
        "from sklearn.linear_model import LogisticRegression\n",
        "from sklearn import ensemble\n",
        "from sklearn.neural_network import MLPClassifier\n",
        "\n",
        "import optuna\n",
        "from tqdm import tqdm"
      ]
    },
    {
      "cell_type": "code",
      "execution_count": 3,
      "metadata": {
        "colab": {},
        "colab_type": "code",
        "id": "5ynJ91PONjLN"
      },
      "outputs": [],
      "source": [
        "# скачиваем данные\n",
        "(x_train, y_train), (x_test, y_test) = tf.keras.datasets.mnist.load_data()"
      ]
    },
    {
      "cell_type": "code",
      "execution_count": 4,
      "metadata": {
        "colab": {
          "base_uri": "https://localhost:8080/",
          "height": 85
        },
        "colab_type": "code",
        "id": "gFOePELMN8KM",
        "outputId": "2f971407-6e5b-45d0-b5b7-54ce323ae481"
      },
      "outputs": [
        {
          "name": "stdout",
          "output_type": "stream",
          "text": [
            "(60000, 28, 28)\n",
            "(10000, 28, 28)\n",
            "[5 0 4 1 9 2 1 3 1 4]\n",
            "[7 2 1 0 4 1 4 9 5 9]\n"
          ]
        }
      ],
      "source": [
        "# что за данные\n",
        "print(x_train.shape)\n",
        "print(x_test.shape)\n",
        "print (y_train[:10])\n",
        "print (y_test[:10])"
      ]
    },
    {
      "cell_type": "code",
      "execution_count": 5,
      "metadata": {
        "colab": {
          "base_uri": "https://localhost:8080/",
          "height": 745
        },
        "colab_type": "code",
        "id": "S_1_CbatN_Kt",
        "outputId": "d8463379-66d2-4e23-b7f6-687a0ad72ca1"
      },
      "outputs": [
        {
          "name": "stdout",
          "output_type": "stream",
          "text": [
            "Пример кусочка картинки (пиксели со значениями от 0 до 255):\n"
          ]
        },
        {
          "data": {
            "image/png": "[encoded data removed]",
            "text/plain": [
              "<Figure size 640x480 with 1 Axes>"
            ]
          },
          "metadata": {},
          "output_type": "display_data"
        },
        {
          "name": "stdout",
          "output_type": "stream",
          "text": [
            "Пример картинки:\n"
          ]
        },
        {
          "data": {
            "image/png": "[encoded data removed]",
            "text/plain": [
              "<Figure size 640x480 with 1 Axes>"
            ]
          },
          "metadata": {},
          "output_type": "display_data"
        },
        {
          "name": "stdout",
          "output_type": "stream",
          "text": [
            "y_train [shape (60000,)] 10 примеров:\n",
            " [5 0 4 1 9 2 1 3 1 4]\n"
          ]
        }
      ],
      "source": [
        "# нарисуем картинку\n",
        "x_train_image = np.tile(x_train[5, :, :].reshape((28, 28))[:, :, np.newaxis], (1, 1, 3))\n",
        "print(\"Пример кусочка картинки (пиксели со значениями от 0 до 255):\")\n",
        "plt.imshow(x_train_image[15:20, 5:10], cmap=\"Greys\")\n",
        "plt.show()\n",
        "print(\"Пример картинки:\")\n",
        "plt.imshow(x_train_image, cmap=\"Greys\")\n",
        "plt.show()\n",
        "print(\"y_train [shape %s] 10 примеров:\\n\" % (str(y_train.shape)), y_train[:10])"
      ]
    },
    {
      "cell_type": "markdown",
      "metadata": {
        "colab_type": "text",
        "id": "wZ_4gaiqOPlR"
      },
      "source": [
        "# Линейная модель\n",
        "\n",
        "Линейная модель не умеет работать с двумерным входом, поэтому мы *вытянем* картинку 28x28 в вектор длины 28*28=784"
      ]
    },
    {
      "cell_type": "code",
      "execution_count": 6,
      "metadata": {
        "colab": {
          "base_uri": "https://localhost:8080/",
          "height": 51
        },
        "colab_type": "code",
        "id": "VqB1Agb4OSwn",
        "outputId": "13f4c9d1-e617-4883-f2cf-28000cd21488"
      },
      "outputs": [
        {
          "name": "stdout",
          "output_type": "stream",
          "text": [
            "(60000, 784)\n",
            "(10000, 784)\n"
          ]
        }
      ],
      "source": [
        "x_train_flat = x_train.reshape(-1, 28*28).astype(float)\n",
        "print(x_train_flat.shape)\n",
        "\n",
        "x_test_flat = x_test.reshape(-1, 28*28).astype(float)\n",
        "print(x_test_flat.shape)"
      ]
    },
    {
      "cell_type": "markdown",
      "metadata": {},
      "source": [
        "Данные необходимо стандартизировать"
      ]
    },
    {
      "cell_type": "code",
      "execution_count": 7,
      "metadata": {
        "colab": {},
        "colab_type": "code",
        "id": "0D5Yh8npubt9"
      },
      "outputs": [],
      "source": [
        "scaler = StandardScaler()\n",
        "x_train_flat = scaler.fit_transform(x_train_flat)\n",
        "x_test_flat = scaler.transform(x_test_flat)"
      ]
    },
    {
      "cell_type": "code",
      "execution_count": 8,
      "metadata": {
        "colab": {
          "base_uri": "https://localhost:8080/",
          "height": 153
        },
        "colab_type": "code",
        "id": "PPfvt_z8uzzA",
        "outputId": "331c0640-d2f7-4eb3-ca4c-c2d91e352d3a"
      },
      "outputs": [
        {
          "data": {
            "text/plain": [
              "array([ 0.        ,  0.        , -0.03059266, -0.00852241, -0.01408835,\n",
              "       -0.2625969 , -0.16124756,  0.        ,  1.71565971,  0.74933951,\n",
              "       -0.11300485, -0.19700703,  1.12192712,  0.27021375, -0.00577281,\n",
              "       -0.70132425,  1.64634567, -0.1273685 , -0.15382451, -0.19833719,\n",
              "       -0.70732309, -0.00477028, -0.60978718, -0.9194134 , -0.17786005,\n",
              "       -0.16833376,  0.65022085, -0.63188648,  0.        , -0.48806277,\n",
              "        1.17394853, -0.14774138, -0.07003976, -0.61257571,  3.52099754,\n",
              "        0.        , -0.09396514, -0.1826269 , -0.00579016,  0.        ])"
            ]
          },
          "execution_count": 8,
          "metadata": {},
          "output_type": "execute_result"
        }
      ],
      "source": [
        "# кусочек фичей\n",
        "x_train_flat[0, ::20]"
      ]
    },
    {
      "cell_type": "code",
      "execution_count": 9,
      "metadata": {
        "colab": {
          "base_uri": "https://localhost:8080/",
          "height": 105
        },
        "colab_type": "code",
        "id": "TOfQsfBHPh0Z",
        "outputId": "35b6c8f8-6bbb-4201-f8d4-960ee4b8f999"
      },
      "outputs": [
        {
          "name": "stdout",
          "output_type": "stream",
          "text": [
            "              precision    recall  f1-score   support\n",
            "\n",
            "           0    0.94800   0.96735   0.95758       980\n",
            "           1    0.95686   0.97709   0.96687      1135\n",
            "           2    0.91708   0.88953   0.90310      1032\n",
            "           3    0.90098   0.90990   0.90542      1010\n",
            "           4    0.93648   0.93075   0.93361       982\n",
            "           5    0.89171   0.86771   0.87955       892\n",
            "           6    0.94301   0.94990   0.94644       958\n",
            "           7    0.93097   0.91829   0.92458      1028\n",
            "           8    0.87005   0.87988   0.87494       974\n",
            "           9    0.91206   0.91477   0.91341      1009\n",
            "\n",
            "    accuracy                        0.92160     10000\n",
            "   macro avg    0.92072   0.92052   0.92055     10000\n",
            "weighted avg    0.92146   0.92160   0.92146     10000\n",
            "\n",
            "CPU times: total: 1min 27s\n",
            "Wall time: 9.95 s\n"
          ]
        }
      ],
      "source": [
        "%%time\n",
        "# обучаем линейную модель\n",
        "clf = LogisticRegression(\n",
        "    multi_class=\"multinomial\",\n",
        "    solver=\"lbfgs\", # градиентный метод оптимизации\n",
        "    max_iter=3000\n",
        ")\n",
        "clf.fit(x_train_flat, y_train)\n",
        "\n",
        "# Выведем отчет по метрикам\n",
        "print(metrics.classification_report(\n",
        "    y_test, clf.predict(x_test_flat), digits=5\n",
        "    )\n",
        ")"
      ]
    },
    {
      "cell_type": "markdown",
      "metadata": {},
      "source": [
        "Вышло не так уж и плохо!"
      ]
    },
    {
      "cell_type": "markdown",
      "metadata": {
        "colab_type": "text",
        "id": "1FWx3v7iQajc"
      },
      "source": [
        "# Градиентный бустинг\n",
        "\n",
        "<img src=\"https://www.researchgate.net/profile/Maria_Peraita-Adrados/publication/326379229/figure/fig5/AS:647978477948928@1531501516288/A-simple-example-of-visualizing-gradient-boosting_W640.jpg\" width=\"300\">\n",
        "\n",
        "Над деревьями делают бустинг и это богатое семейство алгоритмов частенько занимает лучшие места на Kaggle. Проверим ее в нашей задаче."
      ]
    },
    {
      "cell_type": "code",
      "execution_count": 19,
      "metadata": {
        "colab": {
          "base_uri": "https://localhost:8080/",
          "height": 238
        },
        "colab_type": "code",
        "id": "_0Dy7dGNQwlW",
        "outputId": "9bb7ccdb-ef67-47b8-dd7c-b2bb4974a5f2"
      },
      "outputs": [
        {
          "name": "stdout",
          "output_type": "stream",
          "text": [
            "              precision    recall  f1-score   support\n",
            "\n",
            "           0    0.96600   0.98571   0.97576       980\n",
            "           1    0.97474   0.98590   0.98029      1135\n",
            "           2    0.94862   0.93023   0.93933      1032\n",
            "           3    0.93097   0.93465   0.93281      1010\n",
            "           4    0.94501   0.94501   0.94501       982\n",
            "           5    0.94064   0.92377   0.93213       892\n",
            "           6    0.96008   0.95407   0.95707       958\n",
            "           7    0.96076   0.92899   0.94461      1028\n",
            "           8    0.91491   0.93840   0.92651       974\n",
            "           9    0.91398   0.92666   0.92028      1009\n",
            "\n",
            "    accuracy                        0.94590     10000\n",
            "   macro avg    0.94557   0.94534   0.94538     10000\n",
            "weighted avg    0.94601   0.94590   0.94588     10000\n",
            "\n",
            "CPU times: total: 38min\n",
            "Wall time: 38min 1s\n"
          ]
        }
      ],
      "source": [
        "%%time\n",
        "clf = ensemble.GradientBoostingClassifier()\n",
        "clf.fit(x_train_flat, y_train)\n",
        "\n",
        "# Выведем отчет по метрикам\n",
        "print(metrics.classification_report(\n",
        "    y_test, clf.predict(x_test_flat), digits=5\n",
        "    )\n",
        ")"
      ]
    },
    {
      "cell_type": "markdown",
      "metadata": {},
      "source": [
        "Как видим, алгоритм работает очень долго: потому что он переборный. Дешевле будет использовать какие-нибудь модификации логистической регрессии.\n",
        "\n",
        "Также градиентный бустинг очень чувствителен к размеру данных: как к числу объектов, так и к числу признаков. Но в том же sklearn имеется модификация классического GB:"
      ]
    },
    {
      "cell_type": "code",
      "execution_count": 22,
      "metadata": {},
      "outputs": [
        {
          "name": "stdout",
          "output_type": "stream",
          "text": [
            "              precision    recall  f1-score   support\n",
            "\n",
            "           0    0.98081   0.99082   0.98579       980\n",
            "           1    0.98941   0.98767   0.98854      1135\n",
            "           2    0.97195   0.97384   0.97289      1032\n",
            "           3    0.97162   0.98317   0.97736      1010\n",
            "           4    0.98253   0.97352   0.97801       982\n",
            "           5    0.97851   0.96973   0.97410       892\n",
            "           6    0.97914   0.98017   0.97966       958\n",
            "           7    0.98037   0.97179   0.97606      1028\n",
            "           8    0.97032   0.97331   0.97181       974\n",
            "           9    0.96630   0.96630   0.96630      1009\n",
            "\n",
            "    accuracy                        0.97720     10000\n",
            "   macro avg    0.97710   0.97703   0.97705     10000\n",
            "weighted avg    0.97722   0.97720   0.97720     10000\n",
            "\n",
            "CPU times: total: 9min 15s\n",
            "Wall time: 1min 34s\n"
          ]
        }
      ],
      "source": [
        "%%time\n",
        "clf = ensemble.HistGradientBoostingClassifier()\n",
        "clf.fit(x_train_flat, y_train)\n",
        "\n",
        "# Выведем отчет по метрикам\n",
        "print(metrics.classification_report(\n",
        "    y_test, clf.predict(x_test_flat), digits=5\n",
        "    )\n",
        ")"
      ]
    },
    {
      "cell_type": "markdown",
      "metadata": {},
      "source": [
        "И он намного быстрее! И лучше! Но у него есть достойный соперник в том же парке моделей sklearn."
      ]
    },
    {
      "cell_type": "markdown",
      "metadata": {
        "colab_type": "text",
        "id": "n8jUd6IORgQh"
      },
      "source": [
        "# Нейросети\n",
        "\n",
        "Соберем сложную функцию как комбинацию простых линейных моделей (например, логистических регрессий).\n",
        "\n",
        "Для оптимизации всех параметров нам не нужен перебор, мы можем честно посчитать производную потерь по каждому параметру и чуточку их подвинуть! Это работает очень быстро!\n"
      ]
    },
    {
      "cell_type": "code",
      "execution_count": 10,
      "metadata": {
        "colab": {
          "base_uri": "https://localhost:8080/",
          "height": 105
        },
        "colab_type": "code",
        "id": "sJHszdc1Ri1m",
        "outputId": "63e05ec0-6fc5-4d88-8c33-95d0f1dc7338"
      },
      "outputs": [
        {
          "name": "stdout",
          "output_type": "stream",
          "text": [
            "              precision    recall  f1-score   support\n",
            "\n",
            "           0    0.97883   0.99082   0.98479       980\n",
            "           1    0.98771   0.99119   0.98945      1135\n",
            "           2    0.96787   0.96318   0.96552      1032\n",
            "           3    0.96408   0.98317   0.97353      1010\n",
            "           4    0.97739   0.96843   0.97289       982\n",
            "           5    0.96745   0.96637   0.96691       892\n",
            "           6    0.97908   0.97704   0.97806       958\n",
            "           7    0.97466   0.97276   0.97371      1028\n",
            "           8    0.96898   0.96201   0.96548       974\n",
            "           9    0.97297   0.96333   0.96813      1009\n",
            "\n",
            "    accuracy                        0.97410     10000\n",
            "   macro avg    0.97390   0.97383   0.97385     10000\n",
            "weighted avg    0.97410   0.97410   0.97408     10000\n",
            "\n",
            "CPU times: total: 52.1 s\n",
            "Wall time: 21.8 s\n"
          ]
        }
      ],
      "source": [
        "%%time\n",
        "# многослойный перцептрон (просто много полносвязных слоев)\n",
        "clf = MLPClassifier()\n",
        "clf.fit(x_train_flat, y_train)\n",
        "\n",
        "# Выведем отчет по метрикам\n",
        "print(metrics.classification_report(\n",
        "    y_test, clf.predict(x_test_flat), digits=5\n",
        "    )\n",
        ")"
      ]
    },
    {
      "cell_type": "markdown",
      "metadata": {},
      "source": [
        "Качество сопоставимое, а скорость еще выше!\n",
        "\n",
        "Попробуем оптимизировать нашу нейросетку, добавив также возможность углубления."
      ]
    },
    {
      "cell_type": "code",
      "execution_count": 14,
      "metadata": {},
      "outputs": [],
      "source": [
        "# Сперва выделим валидационную выборку\n",
        "x_valid_flat = x_train_flat[50000:, :]\n",
        "x_train_flat = x_train_flat[:50000, :]\n",
        "\n",
        "y_valid = y_train[50000:]\n",
        "y_train = y_train[:50000]"
      ]
    },
    {
      "cell_type": "code",
      "execution_count": 45,
      "metadata": {},
      "outputs": [
        {
          "name": "stdout",
          "output_type": "stream",
          "text": [
            "Label: 3\n"
          ]
        },
        {
          "data": {
            "image/png": "[encoded data removed]",
            "text/plain": [
              "<Figure size 640x480 with 1 Axes>"
            ]
          },
          "metadata": {},
          "output_type": "display_data"
        }
      ],
      "source": [
        "x_valid_image = x_valid_flat[0].reshape(1, 28, 28)\n",
        "\n",
        "print('Label:', y_valid[0])\n",
        "plt.imshow(x_valid_image[0], cmap=\"Greys\")\n",
        "plt.show()"
      ]
    },
    {
      "cell_type": "code",
      "execution_count": 48,
      "metadata": {},
      "outputs": [],
      "source": [
        "# Напишем функцию для оптимизации\n",
        "def optuna_mlp(trial):\n",
        "    \"\"\"Функция, обучающая модель MLPClassifier по переданным гиперпараметрам\n",
        "    Args:\n",
        "        trial : класс, от которого вызываются гиперпараметры\n",
        "    Returns:\n",
        "        score(float): метрика F1-weighted\n",
        "    \"\"\"\n",
        "    # Задаем пространство поиска гиперпараметров\n",
        "    params = {\n",
        "        'activation': trial.suggest_categorical('activation', ['identity', 'logistic', 'tanh', 'relu']),\n",
        "        'alpha': trial.suggest_float('alpha', 1e-5, 1e-2),\n",
        "        'learning_rate': trial.suggest_categorical('learning_rate', ['constant', 'adaptive'])\n",
        "    }\n",
        "    \n",
        "    if trial.suggest_categorical('use_second_hidden_layer', [True, False]):\n",
        "        params['hidden_layer_sizes'] = (trial.suggest_int('n_units1', 1, 256),\n",
        "                                         trial.suggest_int('n_units2', 1, 256))\n",
        "    else:\n",
        "        params['hidden_layer_sizes'] = (trial.suggest_int('n_units1', 1, 256),)\n",
        "    \n",
        "    # Инициализация MLPClassifier с оптимизируемыми гиперпараметрами\n",
        "    clf = MLPClassifier(\n",
        "        **params,\n",
        "        max_iter=1000,\n",
        "        random_state=42\n",
        "    )\n",
        "    \n",
        "    # Вычисление метрики \n",
        "    clf.fit(x_train_flat, y_train)\n",
        "    valid_preds = clf.predict(x_valid_flat)\n",
        "    score = metrics.f1_score(y_valid, valid_preds, average='weighted')\n",
        "\n",
        "    return score\n",
        "\n",
        "\n",
        "# Создаем объект исследования для первого набора гиперпараметров\n",
        "# Укажем, что нам необходимо максимизировать метрику direction=\"maximize\"\n",
        "study_mlp = optuna.create_study(study_name=\"mlp_opt\", direction='maximize')\n",
        "# Подавляем логирование\n",
        "optuna.logging.set_verbosity(optuna.logging.WARNING)\n",
        "# Мониторим прогресс оптимизации\n",
        "with tqdm(total=10, desc=\"Optimizing\") as pbar:\n",
        "    def update(study, trial):\n",
        "        pbar.update()\n",
        "    # Ищем лучшую комбинацию гиперпараметров n_trials раз\n",
        "    study_mlp.optimize(optuna_mlp, n_trials=10, callbacks=[update])\n",
        "\n",
        "best_params = study_mlp.best_params\n",
        "n_units1 = best_params.pop('n_units1')\n",
        "flag = best_params.pop('use_second_hidden_layer')\n",
        "if flag:\n",
        "    n_units2 = best_params.pop('n_units2')\n",
        "    hidden_layer_sizes = (n_units1, n_units2)\n",
        "else:\n",
        "    hidden_layer_sizes = (n_units1,)"
      ]
    },
    {
      "cell_type": "code",
      "execution_count": 49,
      "metadata": {},
      "outputs": [
        {
          "name": "stdout",
          "output_type": "stream",
          "text": [
            "Лучшие гиперпараметры: {'activation': 'relu', 'alpha': 0.0026662147964328486, 'learning_rate': 'adaptive', 'use_second_hidden_layer': True, 'n_units1': 99, 'n_units2': 89}\n",
            "              precision    recall  f1-score   support\n",
            "\n",
            "           0    0.97980   0.98980   0.98477       980\n",
            "           1    0.99208   0.99383   0.99296      1135\n",
            "           2    0.96996   0.96996   0.96996      1032\n",
            "           3    0.96282   0.97426   0.96850      1010\n",
            "           4    0.97955   0.97556   0.97755       982\n",
            "           5    0.97941   0.95964   0.96942       892\n",
            "           6    0.97604   0.97808   0.97706       958\n",
            "           7    0.97363   0.96984   0.97173      1028\n",
            "           8    0.97013   0.96715   0.96864       974\n",
            "           9    0.97134   0.97423   0.97279      1009\n",
            "\n",
            "    accuracy                        0.97560     10000\n",
            "   macro avg    0.97548   0.97523   0.97534     10000\n",
            "weighted avg    0.97562   0.97560   0.97559     10000\n",
            "\n",
            "CPU times: total: 1min 17s\n",
            "Wall time: 31.3 s\n"
          ]
        }
      ],
      "source": [
        "%%time\n",
        "# Оптимальные гиперпараметры\n",
        "print(\"Лучшие гиперпараметры:\", study_mlp.best_params)\n",
        "\n",
        "# Передаем модели коллекцию оптимальных гиперпараметров\n",
        "mlpc_opt = MLPClassifier(\n",
        "    hidden_layer_sizes=hidden_layer_sizes,\n",
        "    **best_params,\n",
        "    max_iter=3000,\n",
        "    random_state=42\n",
        ")\n",
        "\n",
        "# Обучение\n",
        "mlpc_opt.fit(x_train_flat, y_train)\n",
        "\n",
        "# Выведем отчет по метрикам\n",
        "print(metrics.classification_report(\n",
        "    y_test, mlpc_opt.predict(x_test_flat), digits=5\n",
        "    )\n",
        ")"
      ]
    },
    {
      "cell_type": "markdown",
      "metadata": {},
      "source": [
        "Удалось немного приподнять метрики.\n",
        "\n",
        "На сегодня в работе с нетабличными данными нейросети превосходят классические алгоритмы машинного обучения."
      ]
    }
  ],
  "metadata": {
    "colab": {
      "collapsed_sections": [],
      "name": "mnist_intro.ipynb",
      "provenance": [],
      "version": "0.3.2"
    },
    "kernelspec": {
      "display_name": "Python 3",
      "name": "python3"
    },
    "language_info": {
      "codemirror_mode": {
        "name": "ipython",
        "version": 3
      },
      "file_extension": ".py",
      "mimetype": "text/x-python",
      "name": "python",
      "nbconvert_exporter": "python",
      "pygments_lexer": "ipython3",
      "version": "3.11.1"
    }
  },
  "nbformat": 4,
  "nbformat_minor": 0
}
